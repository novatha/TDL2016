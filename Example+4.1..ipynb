{
 "cells": [
  {
   "cell_type": "markdown",
   "metadata": {
    "slideshow": {
     "slide_type": "slide"
    }
   },
   "source": [
    "# Example 4.1\n",
    "Notebook ini memuat perhitungan yang dibahas dalam Example 4.1 yang ada pada halaman 92-95 buku [1].\n",
    "## Pustaka\n",
    "[1] Kersting, W. Distribution system modeling and analysis CRC Press, 2002"
   ]
  },
  {
   "cell_type": "code",
   "execution_count": 1,
   "metadata": {
    "collapsed": true,
    "slideshow": {
     "slide_type": "slide"
    }
   },
   "outputs": [],
   "source": [
    "# konduktor phasa\n",
    "GMR=0.0244 # ft\n",
    "r = 0.306 # ohm/mile Resistance\n",
    "# konduktor netral\n",
    "GMRn=0.00814 # ft\n",
    "rn= 0.5920\n",
    "# jarak antar konduktor\n",
    "Dab=2.5 # ft\n",
    "Dbc=4.5 # ft\n",
    "Dca=7 # ft\n",
    "Dan=5.6569 # ft\n",
    "Dbn=4.272 # ft\n",
    "Dcn=5.0 # ft"
   ]
  },
  {
   "cell_type": "code",
   "execution_count": 2,
   "metadata": {
    "collapsed": true,
    "slideshow": {
     "slide_type": "slide"
    }
   },
   "outputs": [],
   "source": [
    "# z_ii = r_i + 0.09530 + j0.12134 (ln (1/GMRi) + 7.93402)"
   ]
  },
  {
   "cell_type": "code",
   "execution_count": 3,
   "metadata": {
    "collapsed": false,
    "slideshow": {
     "slide_type": "subslide"
    }
   },
   "outputs": [],
   "source": [
    "from scipy import log\n",
    "def hitungzii(r,gmr):\n",
    "    # menghitung self impedance\n",
    "    zii=r+0.0953+0.12134j*(log(1/gmr) + 7.93402)\n",
    "    return zii"
   ]
  },
  {
   "cell_type": "code",
   "execution_count": 4,
   "metadata": {
    "collapsed": false,
    "slideshow": {
     "slide_type": "subslide"
    }
   },
   "outputs": [
    {
     "data": {
      "text/plain": [
       "(0.4013+1.413270295078513j)"
      ]
     },
     "execution_count": 4,
     "metadata": {},
     "output_type": "execute_result"
    }
   ],
   "source": [
    "hitungzii(r,GMR)"
   ]
  },
  {
   "cell_type": "code",
   "execution_count": 5,
   "metadata": {
    "collapsed": false,
    "slideshow": {
     "slide_type": "slide"
    }
   },
   "outputs": [
    {
     "name": "stdout",
     "output_type": "stream",
     "text": [
      "(0.4013+1.413270295078513j)\n",
      "(0.4013+1.413270295078513j)\n",
      "(0.4013+1.413270295078513j)\n",
      "(0.6873+1.5464764919087395j)\n"
     ]
    }
   ],
   "source": [
    "# self impedance\n",
    "zaa=hitungzii(r,GMR)\n",
    "zbb=hitungzii(r,GMR)\n",
    "zcc=hitungzii(r,GMR)\n",
    "znn=hitungzii(rn,GMRn)\n",
    "print(zaa)\n",
    "print(zbb)\n",
    "print(zcc)\n",
    "print(znn)"
   ]
  },
  {
   "cell_type": "code",
   "execution_count": 6,
   "metadata": {
    "collapsed": true,
    "slideshow": {
     "slide_type": "slide"
    }
   },
   "outputs": [],
   "source": [
    "def hitungzij(Dij):\n",
    "    # hitung mutual impedance\n",
    "    zij=0.09530 + 0.12134j*(log(1/Dij) + 7.93402)\n",
    "    return zij\n"
   ]
  },
  {
   "cell_type": "code",
   "execution_count": 7,
   "metadata": {
    "collapsed": false,
    "slideshow": {
     "slide_type": "slide"
    }
   },
   "outputs": [],
   "source": [
    "zab=hitungzij(Dab)\n",
    "zbc=hitungzij(Dbc)\n",
    "zca=hitungzij(Dca)\n",
    "zan=hitungzij(Dan)\n",
    "zbn=hitungzij(Dbn)\n",
    "zcn=hitungzij(Dcn)\n",
    "\n",
    "zba=zab\n",
    "zcb=zbc\n",
    "zac=zca\n",
    "zna=zan\n",
    "znb=zbn\n",
    "znv=zcn"
   ]
  },
  {
   "cell_type": "code",
   "execution_count": 8,
   "metadata": {
    "collapsed": false,
    "slideshow": {
     "slide_type": "slide"
    }
   },
   "outputs": [
    {
     "name": "stdout",
     "output_type": "stream",
     "text": [
      "[[ 0.4013+1.4132703j   0.0953+0.85153127j  0.0953+0.72659725j\n",
      "   0.0953+0.75244681j]\n",
      " [ 0.0953+0.85153127j  0.4013+1.4132703j   0.0953+0.78020924j\n",
      "   0.0953+0.78651834j]\n",
      " [ 0.0953+0.72659725j  0.0953+0.78020924j  0.4013+1.4132703j\n",
      "   0.0953+0.76742479j]\n",
      " [ 0.0953+0.75244681j  0.0953+0.78651834j  0.0953+0.76742479j\n",
      "   0.6873+1.54647649j]]\n"
     ]
    }
   ],
   "source": [
    "import numpy as np\n",
    "# z adalah matriks impedansi primitif\n",
    "z=np.mat([[zaa,zab,zac,zan],[zba,zbb,zbc,zbn],[zca,zcb,zcc,zcn],[zan,zbn,zcn,znn]])\n",
    "print(z)"
   ]
  },
  {
   "cell_type": "code",
   "execution_count": 9,
   "metadata": {
    "collapsed": false,
    "slideshow": {
     "slide_type": "subslide"
    }
   },
   "outputs": [
    {
     "name": "stdout",
     "output_type": "stream",
     "text": [
      "[[ 0.4013+1.4132703j   0.0953+0.85153127j  0.0953+0.72659725j]\n",
      " [ 0.0953+0.85153127j  0.4013+1.4132703j   0.0953+0.78020924j]\n",
      " [ 0.0953+0.72659725j  0.0953+0.78020924j  0.4013+1.4132703j ]]\n"
     ]
    }
   ],
   "source": [
    "zij=np.mat([[zaa,zab,zac],[zba,zbb,zbc],[zca,zcb,zcc]])\n",
    "print(zij)"
   ]
  },
  {
   "cell_type": "code",
   "execution_count": 10,
   "metadata": {
    "collapsed": false,
    "slideshow": {
     "slide_type": "subslide"
    }
   },
   "outputs": [
    {
     "name": "stdout",
     "output_type": "stream",
     "text": [
      "[[ 0.0953+0.75244681j]\n",
      " [ 0.0953+0.78651834j]\n",
      " [ 0.0953+0.76742479j]]\n"
     ]
    }
   ],
   "source": [
    "zin=np.mat([[zan],[zbn],[zcn]])\n",
    "print(zin)"
   ]
  },
  {
   "cell_type": "code",
   "execution_count": 11,
   "metadata": {
    "collapsed": false,
    "slideshow": {
     "slide_type": "subslide"
    }
   },
   "outputs": [
    {
     "name": "stdout",
     "output_type": "stream",
     "text": [
      "[[ 0.0953+0.75244681j  0.0953+0.78651834j  0.0953+0.76742479j]]\n"
     ]
    }
   ],
   "source": [
    "znj=np.mat([zan,zbn,zcn])\n",
    "print(znj)"
   ]
  },
  {
   "cell_type": "code",
   "execution_count": 12,
   "metadata": {
    "collapsed": false,
    "slideshow": {
     "slide_type": "subslide"
    }
   },
   "outputs": [
    {
     "name": "stdout",
     "output_type": "stream",
     "text": [
      "[[ 0.6873+1.54647649j]]\n"
     ]
    }
   ],
   "source": [
    "znn=np.mat([znn])\n",
    "print(znn)"
   ]
  },
  {
   "cell_type": "code",
   "execution_count": 13,
   "metadata": {
    "collapsed": false,
    "slideshow": {
     "slide_type": "slide"
    }
   },
   "outputs": [],
   "source": [
    "from scipy import linalg\n",
    "znn_inv=linalg.inv(znn)"
   ]
  },
  {
   "cell_type": "code",
   "execution_count": 14,
   "metadata": {
    "collapsed": false,
    "slideshow": {
     "slide_type": "subslide"
    }
   },
   "outputs": [
    {
     "name": "stdout",
     "output_type": "stream",
     "text": [
      "[[ 0.45755083+1.07803538j  0.15594993+0.50167375j  0.15348470+0.38493418j]\n",
      " [ 0.15594993+0.50167375j  0.46662762+1.04816333j  0.15800626+0.423648j  ]\n",
      " [ 0.15348470+0.38493418j  0.15800626+0.423648j    0.46147239+1.06505793j]]\n"
     ]
    }
   ],
   "source": [
    "zabc=zij-zin*znn_inv*znj\n",
    "print(zabc)"
   ]
  },
  {
   "cell_type": "code",
   "execution_count": 15,
   "metadata": {
    "collapsed": false,
    "slideshow": {
     "slide_type": "slide"
    }
   },
   "outputs": [
    {
     "name": "stdout",
     "output_type": "stream",
     "text": [
      "[[ 1.0+0.j         1.0+0.j         1.0+0.j       ]\n",
      " [ 1.0+0.j        -0.5-0.8660254j -0.5+0.8660254j]\n",
      " [ 1.0+0.j        -0.5+0.8660254j -0.5-0.8660254j]]\n",
      "[[ 0.33333333 -8.32667268e-17j  0.33333333 +5.55111512e-17j\n",
      "   0.33333333 +2.77555756e-17j]\n",
      " [ 0.33333333 +1.11022302e-16j -0.16666667 +2.88675135e-01j\n",
      "  -0.16666667 -2.88675135e-01j]\n",
      " [ 0.33333333 +5.55111512e-17j -0.16666667 -2.88675135e-01j\n",
      "  -0.16666667 +2.88675135e-01j]]\n"
     ]
    }
   ],
   "source": [
    "a=np.cos(2*np.pi/3)+1j*np.sin(2*np.pi/3)\n",
    "As=np.mat([[1,1,1],[1,a*a,a],[1,a,a*a]])\n",
    "Asinv=linalg.inv(As)\n",
    "print(As)\n",
    "print(Asinv)"
   ]
  },
  {
   "cell_type": "code",
   "execution_count": 16,
   "metadata": {
    "collapsed": false,
    "slideshow": {
     "slide_type": "slide"
    }
   },
   "outputs": [
    {
     "name": "stdout",
     "output_type": "stream",
     "text": [
      "[[ 0.77351087+1.93725617j  0.02556005+0.01149374j -0.03208546+0.01589341j]\n",
      " [-0.03208546+0.01589341j  0.30606999+0.62700024j -0.07225043-0.00602727j]\n",
      " [ 0.02556005+0.01149374j  0.07230292-0.00589751j  0.30606999+0.62700024j]]\n"
     ]
    }
   ],
   "source": [
    "z012=Asinv*zabc*As\n",
    "print(z012)"
   ]
  }
 ],
 "metadata": {
  "celltoolbar": "Slideshow",
  "kernelspec": {
   "display_name": "Python 3",
   "language": "python",
   "name": "python3"
  },
  "language_info": {
   "codemirror_mode": {
    "name": "ipython",
    "version": 3
   },
   "file_extension": ".py",
   "mimetype": "text/x-python",
   "name": "python",
   "nbconvert_exporter": "python",
   "pygments_lexer": "ipython3",
   "version": "3.5.1"
  }
 },
 "nbformat": 4,
 "nbformat_minor": 0
}
